{
 "cells": [
  {
   "cell_type": "markdown",
   "id": "322b48cc-caa6-45d7-ba61-2168a89f9648",
   "metadata": {},
   "source": [
    "# Types abstraits de données\n",
    "\n",
    "Les structures de données jouent un rôle important dès que on souhaite stoker et manipuler (efficacement) une collection d'objets. **L’écriture d’un algorithme efficace passe souvent par l’utilisation d’une structure de données appropriée**. La notion de type abstrait de données apparaît alors pour s’abstraire du langage de programmation et intervient dans la conception des algorithmes. Un type abstrait de données représente dans ce cas la définition des propriétés de la structure et de son interface. L'implémentation de la structure n'est nécessaire qu'au moment de la programmation de l'algorithme. \n",
    "\n",
    "## Types de données et structure de données\n",
    "\n",
    "Dans un langage de programmation comme Python, le type des objets est déclaré de manière **dynamique**, c'est à dire que c'est Python qui octroie de manière automatique un type aux données que vous déclarées en fonction d'un certains nombres de règles définies par les concepteurs du langage. Ça rend évidemment Python très facile à utiliser puisqu’on n’a pas besoin de préciser le type d’une variable à l’avance et on peut en changer facilement. Mais attention cela peut également être source de confusion.\n",
    "\n",
    "Les types constituent une description du format de représentation interne des données en machine. Ils représentent une couche d'abstraction qui libèrent le programmeur du souci de savoir comment est réprésentée une variable de type **str**, **int** ou **float**, du moment que l'on sait l'utiliser suivant les usages convenus.\n",
    "\n",
    "Les types prédéfinis d'un langage de programmation appelés **types natifs** (built-in types en anglais) sont plus moins nombreux suivant les langages. Les grandes familles de types natifs en Python sont les numériques, les séquences, les dictionnaires, les classes, les instances et les exceptions. Pour une description détaillée : https://docs.python.org/fr/3/library/stdtypes.html\n",
    "\n",
    "En revanche lorsque l'on veut utiliser un objet de type **pile** (stack en anglais) les problèmes apparaissent puisqu'il n'existe pas en Python. On peut éventuellement détourner un type existant pour satisfaire un besoin ponctuel https://docs.python.org/2/tutorial/datastructures.html.\n",
    "\n",
    "## Un type abstrait de données (TAD ) c'est quoi ?\n",
    "\n",
    "<div class=\"alert alert-warning\" role=\"alert\"><b>Définition: </b><br>\n",
    "    Un <b>type abstrait de données</b> est la description d'un ensemble organisé d'objets et des opérations de manipulation autorisées sur cet ensemble ainsi que leur(s) effet(s).<br><br>\n",
    "    \n",
    "Un TAD se définit par :\n",
    "    <ul>\n",
    "    <li>son nom ;</li>\n",
    "    <li>les identifiants, signatures et contrats de chaque opération ;</li>\n",
    "    <li>les préconditions à respecter pour chaque opération ;</li>\n",
    "    <li>les axiomes, qui décrivent les relations entre les opérations.</li>\n",
    "        </ul>\n",
    "</div>\n",
    "\n",
    "### Abstraction &#10140; Implémentation &#10140; Utilisation\n",
    "\n",
    "* Durant la **phase de conception**, le type abstrait doit être spécifié de manière non ambiguë, notamment les opérations du type abstrait. Le concepteur pense les algorithmes d’une manière abstraite, sans connaître leur implémentation future\n",
    "* Durant la **phase de développement** ou **d'implémentation** : le programmeur choisit une représentation physique du TAD, au moyen d'un langage de programmation. Il déclare un type dans ce langage. Il écrit des fonctions manipulant les variables de ce type, pour donner corps aux opérations définies par le concepteur, en respectant préconditions et axiomes. Cette implémentation est appelée **structure de données**.\n",
    "* Puis on passe à la **phase d'utilisation**. L'utilisateur peut accéder aux différentes fonctionnalités du TAD par l'intermédiaire de son implémentation. L'utlisateur n'a pas besoin de connaître les détails de l'implémentation. Le concepteur peut ainsi modifier l'implémentation sans que les programmes de l'utilisateur ne doivent subir de modification. \n",
    "\n",
    "*Exemples :* \n",
    "* type abstrait de données : annuaire téléphone\n",
    "    * objet -> personne(nom, prénom, numéro)\n",
    "    * opérations -> ajouter, chercher, supprimer\n",
    "\n",
    "\n",
    "* type abstrait de données : pile\n",
    "    * objet -> int, float, str, ...\n",
    "    * opérations -> insérer (empiler), retirer (dépiler)\n",
    "\n",
    "Remarques : \n",
    "* Le concept de type abstrait ne dépend pas du langage de programmation en revanche les types concrets varie d'un langage à l'autre. Par exemple le type **Pile** existent dans certains langages mais pas en Python. \n",
    "* En général, un type abstrait de données admet plusieurs réalisations, implémentations possibles."
   ]
  },
  {
   "cell_type": "markdown",
   "id": "a47b4462-e426-45e0-a9c2-170dc0547ce9",
   "metadata": {},
   "source": [
    "## Application: TAD date\n",
    "\n",
    "### Les opérations\n",
    "\n",
    "Soit un objet **d** de type **Date** \n",
    "\n",
    "* **day()** : retourne le jour de **d**\n",
    "* **month()** : retourne le mois de **d**\n",
    "* **year()** : retourne l'année de **d**\n",
    "* **nameDay()**: retourne le nom du jour (lundi, mardi, ...) de **d**\n",
    "* **nameMonth()** : retourne le nom du mois (janvier, février, mars, ..) de **d**\n",
    "* **dayDelta(d1)** : retourne le nombre de jours séparant **d** et **d1**\n",
    "* **monthDelta(d1** : retourne le nombre de mois séparant **d** et **d1**\n",
    "* **timeDelta(d1)** : retourne le nombre de secondes séparant **d** et **d1**\n",
    "* **greater(d1)** : retourne Vrai si la date **d** est supérieure à **d1**\n",
    "* **smaller(d1)** : retourne Vrai si la date **d** est inférieur à **d1**\n",
    "* **equals(d1)** : retourne Vrai si la date **d** est égale à **d1**\n",
    "* **advance(jours)** : avance la date **d** du nombre de jours\n",
    "\n",
    "### Les préconditions\n",
    "\n",
    "* jour :\n",
    "* mois :\n",
    "* année : \n",
    "* explication des cas particuliers :\n",
    "\n",
    "### Les axiomes\n",
    "\n",
    "<div class=\"alert alert-warning\" role=\"alert\"><b>Définition: </b><br>\n",
    "    Un axiome est une vérité admise sans démonstration et sur laquelle se fonde une science, un raisonnement ; principe posé hypothétiquement à la base d'une théorie déductive. Un axiome représente donc un point de départ dans un système de logique. La pertinence d'une théorie dépend de la pertinence de ses axiomes et de leur interprétation.\n",
    "</div>\n",
    "\n",
    "* d.greater(d1) retourne vrai si d > d1 \n",
    "* d.equals(d1) retourne vrai si  d == d1\n",
    "* etc...\n",
    "\n",
    "### API : Application Programming Interface\n",
    "\n",
    "C'est l'ensemble des opérations que l'utilisateur pourra effectuer sur le TAD."
   ]
  },
  {
   "cell_type": "markdown",
   "id": "5219e4f0-3373-410b-af2e-155a58b01c7e",
   "metadata": {},
   "source": [
    "### Définition : Structure de données\n",
    "\n",
    "Une **structure de données** est l'implémentation explicite d'un ensemble organisé d'objets, avec la réalisation des opérations de construction, d'accès et de modification. Elle permet la manipulation physique des objets afin d'organiser, traiter, récupérer et stocker un ensemble d'objets.\n",
    "\n",
    "L'implémentation efficace de types abstraits de données par des structures de données qui optimise les complexités temporelle et spatiale des opérations de manipulation est l'une des préoccupations de l'algorithmique."
   ]
  },
  {
   "cell_type": "markdown",
   "id": "c40da1b4-b3c0-4dd0-9556-c4712fb5b22d",
   "metadata": {},
   "source": [
    "## Structures de données séquentielles\n",
    "\n",
    "Pour les types abstraits de données les plus simples, plusieurs réalisations efficaces sont faciles à obtenir et à décrire. Il en est ainsi des listes, des piles et des files.\n",
    "\n",
    "### Liste linéaire\n",
    "\n",
    "Une **liste linéaire** sur un ensemble $E$ est une suite finie $(e_1,\\dots ,e_n)$ d'éléments de $E$. La liste est vide si $n=0$. Les éléments sont soit accessibles directement, par leur indice, soit indirectement quand la liste est représentée par une suite d'objets chaînés.\n",
    "\n",
    "Il existe également plusieurs variantes des listes linéaires. Dans une liste, on distingue deux cotés, le début et la fin, et les opérations de manipulation peuvent s'effectuer des deux cotés voir même autoriser des insertions et suppressions à *l'intérieur* de la liste. Selon la nature des contraintes définies sur la liste on définit deux autres structures de données dont nous verrons l'implémentation plus tard :\n",
    "* **Pile :** est une liste linéaire où les insertions et suppression se font toutes du même coté.\n",
    "* **File :** est une liste linéaire où les insertions se font toutes du même coté et les suppressions toutes de l'autre coté."
   ]
  },
  {
   "cell_type": "markdown",
   "id": "3a93d44a-1aea-4c55-9d7d-a50c2f126be0",
   "metadata": {},
   "source": [
    "### Piles\n",
    "\n",
    "Une pile répond à une logique **LIFO** (last-in first-out) c'est un type abstrait de données qui possède essentiellement trois opérations:\n",
    "* créer une pile vide\n",
    "* insérer dans la pile --> **empiler**\n",
    "* retirer de la pile   --> **dépiler**\n",
    "\n",
    "On peut également définir les opérations auxiliares suivantes : \n",
    "* **sommet** qui renvoie l'élément au sommet de la pile\n",
    "* **estVide** qui renvoie un booléen indiquant si la pile est vide \n",
    "\n",
    "Si la pile n'est pas vide, l'élément accessible est le sommet de la pile. Si on empile un élément, puis on dépile, on retrouve la pile dans l'état de départ. Attention les opérations **dépiler** et **sommet** ne peuvent pas être exécutées si la pile est vide. \n",
    "\n",
    "### Applications des piles\n",
    "\n",
    "* Applications directes\n",
    "    * Historique des pages visitées dans un navigateur web\n",
    "    * commande *undo* dans un éditeur de texte\n",
    "    * Expressions bien parenthésées\n",
    "    * ...\n",
    "* Applications indirectes\n",
    "    * Apparaît  comme  structure  de  données  auxiliaire dans certains algorithmes"
   ]
  },
  {
   "cell_type": "markdown",
   "id": "5979d102-c95c-445c-8ecd-e23e6327a3a8",
   "metadata": {},
   "source": [
    "Que fait la fonction ```mystere``` suivante ?"
   ]
  },
  {
   "cell_type": "code",
   "execution_count": null,
   "id": "45951997-6e19-46ab-887b-8fda91287116",
   "metadata": {},
   "outputs": [],
   "source": [
    "def mystere(n, L):\n",
    "    \n",
    "    P = Pile()\n",
    "    for i in range(n):\n",
    "        P.empiler(L[i])\n",
    "    i = 0\n",
    "    while (not(P.estVide())):\n",
    "        L[i] = P.depiler()\n",
    "        i += 1\n",
    "    return L"
   ]
  },
  {
   "cell_type": "markdown",
   "id": "d673394a-4953-4171-9aa3-c70d47da9f09",
   "metadata": {},
   "source": [
    "Soit l'algorithme implémenté par la fonction ```unAutreMystere``` suivante:"
   ]
  },
  {
   "cell_type": "code",
   "execution_count": null,
   "id": "52f5b488-e162-4439-8e7c-6f753df5c0f7",
   "metadata": {},
   "outputs": [],
   "source": [
    "def unAutreMystere(n, L):\n",
    "    \n",
    "    P = Pile()\n",
    "    for i in range(n):\n",
    "        faire(L[i], P)\n",
    "    return P\n",
    "\n",
    "def faire(x, P):\n",
    "    \n",
    "    if P.estvide() or x >= P.sommet():\n",
    "        P.empiler(x)\n",
    "    else:\n",
    "        y = P.depiler()\n",
    "        faire(x, P)\n",
    "        P.empiler(y)\n",
    "    return P"
   ]
  },
  {
   "cell_type": "markdown",
   "id": "23818fd6-8d17-45de-860c-217baa3adbd8",
   "metadata": {},
   "source": [
    "1. Quel est le résultat renvoyé par l'appel suivant : ```unAutreMystere(10, [0, 5, 8, -2, 1, 9, 5, -3, 0, 7])``` ?\n",
    "1. À quel algorithme connu peut-on associer cette fonction ?\n",
    "1. Quel est la complexité temporelle et spatiale dans le pire cas de cet algorithme ?"
   ]
  },
  {
   "cell_type": "markdown",
   "id": "63a4b096-6503-49ef-8100-dafe2f6c490b",
   "metadata": {},
   "source": [
    "### Files"
   ]
  },
  {
   "cell_type": "markdown",
   "id": "1c1f9d17-5472-4fec-8ae6-267dcda56448",
   "metadata": {},
   "source": [
    "Une pile répond à une logique **FIFO** (last-in first-out) c'est un type abstrait de données qui possède essentiellement trois opérations:\n",
    "\n",
    "* créer une file vide\n",
    "* insérer un élément à la fin de la file --> **enfiler**\n",
    "* retirer un élément en tête de la file   --> **défiler**\n",
    "\n",
    "On peut également définir les opérations auxiliares suivantes : \n",
    "* **tête** qui renvoie l'élément la tête de la file\n",
    "* **estVide** qui renvoie un booléen indiquant si la file est vide"
   ]
  },
  {
   "cell_type": "markdown",
   "id": "ce97ae37-2f4b-465f-9df6-b9096e6d0594",
   "metadata": {},
   "source": [
    "Que fait la fonction ```mystere``` suivante ?"
   ]
  },
  {
   "cell_type": "code",
   "execution_count": null,
   "id": "35b5b12c-6596-4bdd-990f-c87fd65623ac",
   "metadata": {},
   "outputs": [],
   "source": [
    "def mystere(p):\n",
    "    \n",
    "    f = File()\n",
    "    while not p.estVide():\n",
    "        s = p.depiler()\n",
    "        f.enfiler(s)\n",
    "    while not f.estVide():\n",
    "        t = f.defiler()\n",
    "        p.empiler(t)\n",
    "    return p"
   ]
  },
  {
   "cell_type": "markdown",
   "id": "e51c92d8-fe38-4db9-a49f-18ff2f707011",
   "metadata": {},
   "source": [
    "Ecrire un algorithme permettant de faire la copie d'une file sans que la file de départ ne soit modifiée. Evaluer le coût en mémoire et le nombre d’opérations de cet algorithme. "
   ]
  }
 ],
 "metadata": {
  "kernelspec": {
   "display_name": "Python 3 (ipykernel)",
   "language": "python",
   "name": "python3"
  },
  "language_info": {
   "codemirror_mode": {
    "name": "ipython",
    "version": 3
   },
   "file_extension": ".py",
   "mimetype": "text/x-python",
   "name": "python",
   "nbconvert_exporter": "python",
   "pygments_lexer": "ipython3",
   "version": "3.9.7"
  }
 },
 "nbformat": 4,
 "nbformat_minor": 5
}
