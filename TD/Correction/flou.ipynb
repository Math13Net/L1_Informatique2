{
 "cells": [
  {
   "cell_type": "code",
   "execution_count": null,
   "id": "cbcb8d41-1bf6-41ef-b43e-3268f2e38e9c",
   "metadata": {},
   "outputs": [],
   "source": [
    "def flou(img, dimension):\n",
    "    \"\"\"\n",
    "    img       -> Image : Image de départ\n",
    "    dimension -> int   : Largeur du cadre (nombre impair)\n",
    "    \"\"\"\n",
    "    imgfloue=Image.new(\"RGB\",img.size)\n",
    "    largeur, hauteur = img.size\n",
    "    d = dimension // 2\n",
    "    for x in range(d, largeur-d):\n",
    "        for y in range(d, hauteur-d):\n",
    "            r, g, b = 0, 0, 0\n",
    "            for i in range(-d, d+1):\n",
    "                for j in range(-d, d+1):\n",
    "                    r2, g2, b2 = img.getpixel((x+i, y+j))\n",
    "                    r = r + r2\n",
    "                    g = g + g2\n",
    "                    b = b + b2\n",
    "            r = r // dimension**2\n",
    "            g = g // dimension**2\n",
    "            b = b // dimension**2\n",
    "            imgfloue.putpixel((x, y), (r, g, b))\n",
    "    return imgfloue\n",
    "\n",
    "imageInitiale = Image.open( \"chemin/votre_image\" )\n",
    "imageFloue = flou(imageInitiale, 3)\n",
    "imageFloue.show()"
   ]
  },
  {
   "cell_type": "code",
   "execution_count": null,
   "id": "7a8b8ec0-cda7-4b4f-908c-b8a0716c8449",
   "metadata": {},
   "outputs": [],
   "source": [
    "def flou(img, rayon):\n",
    "    \"\"\"\n",
    "    img       -> Image : Image de départ\n",
    "    dimension -> int   : Rayon, c'est à dire le nombre de pixels séparant\n",
    "                         le centre et le bord du cadre. Pour un cadre 3x3\n",
    "                         le rayon est de 1, pour un cadre 5x5 le rayon est\n",
    "                         de 2, etc...\n",
    "    \"\"\"\n",
    "    imgfloue=Image.new(\"RGB\",img.size)\n",
    "    largeur, hauteur = img.size\n",
    "    for x in range(rayon, largeur-rayon):\n",
    "        for y in range(rayon, hauteur-rayon):\n",
    "            r, g, b = 0, 0, 0\n",
    "            for i in range(-rayon, rayon+1):\n",
    "                for j in range(-rayon, rayon+1):\n",
    "                    r2, g2, b2 = img.getpixel((x+i, y+j))\n",
    "                    r = r + r2\n",
    "                    g = g + g2\n",
    "                    b = b + b2\n",
    "            r = r // (1+rayon*2)**2\n",
    "            g = g // (1+rayon*2)**2\n",
    "            b = b // (1+rayon*2)**2\n",
    "            imgfloue.putpixel((x, y), (r, g, b))\n",
    "    return imgfloue"
   ]
  }
 ],
 "metadata": {
  "kernelspec": {
   "display_name": "Python 3",
   "language": "python",
   "name": "python3"
  },
  "language_info": {
   "codemirror_mode": {
    "name": "ipython",
    "version": 3
   },
   "file_extension": ".py",
   "mimetype": "text/x-python",
   "name": "python",
   "nbconvert_exporter": "python",
   "pygments_lexer": "ipython3",
   "version": "3.9.4"
  }
 },
 "nbformat": 4,
 "nbformat_minor": 5
}
