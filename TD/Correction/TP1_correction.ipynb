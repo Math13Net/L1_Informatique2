{
 "cells": [
  {
   "cell_type": "code",
   "execution_count": 1,
   "id": "0ba1fd41",
   "metadata": {
    "tags": []
   },
   "outputs": [],
   "source": [
    "from random import randint as rd"
   ]
  },
  {
   "cell_type": "code",
   "execution_count": 2,
   "id": "7265ddd0",
   "metadata": {},
   "outputs": [],
   "source": [
    "def rollDice(n):\n",
    "    \n",
    "    tirage = [-1]*n\n",
    "    for i in range(n):\n",
    "        tirage[i] = rd(1, 6)\n",
    "    return tirage"
   ]
  },
  {
   "cell_type": "code",
   "execution_count": 3,
   "id": "843fc6d4",
   "metadata": {},
   "outputs": [
    {
     "name": "stdout",
     "output_type": "stream",
     "text": [
      "[1, 3, 4, 1, 5]\n"
     ]
    }
   ],
   "source": [
    "tabDice = rollDice(5)\n",
    "print(tabDice)"
   ]
  },
  {
   "cell_type": "code",
   "execution_count": 4,
   "id": "68037dd4",
   "metadata": {},
   "outputs": [],
   "source": [
    "def sumValues(t, n):\n",
    "    \n",
    "    somme = 0\n",
    "    for i in range(n):\n",
    "        somme += t[i]\n",
    "    return somme"
   ]
  },
  {
   "cell_type": "code",
   "execution_count": 5,
   "id": "64b96463",
   "metadata": {},
   "outputs": [
    {
     "data": {
      "text/plain": [
       "14"
      ]
     },
     "execution_count": 5,
     "metadata": {},
     "output_type": "execute_result"
    }
   ],
   "source": [
    "sumValues(tabDice, 5)"
   ]
  },
  {
   "cell_type": "code",
   "execution_count": 6,
   "id": "9bcffa43",
   "metadata": {},
   "outputs": [],
   "source": [
    "def oneSameSide(t, n, face):\n",
    "    \n",
    "    identique = 0\n",
    "    for i in range(n):\n",
    "        if t[i] == face:\n",
    "            identique += 1\n",
    "    return identique"
   ]
  },
  {
   "cell_type": "code",
   "execution_count": 7,
   "id": "6ff3ef6e",
   "metadata": {},
   "outputs": [
    {
     "data": {
      "text/plain": [
       "2"
      ]
     },
     "execution_count": 7,
     "metadata": {},
     "output_type": "execute_result"
    }
   ],
   "source": [
    "oneSameSide(tabDice, 5, 1)"
   ]
  },
  {
   "cell_type": "code",
   "execution_count": 8,
   "id": "b442e9b8",
   "metadata": {},
   "outputs": [],
   "source": [
    "def histogram(t, n):\n",
    "    \n",
    "    histo = [0]*7 # 6 faces pour un dé + \n",
    "    histo[0] = n\n",
    "    for i in range(n):\n",
    "        histo[t[i]] += 1\n",
    "    return histo\n",
    "        "
   ]
  },
  {
   "cell_type": "code",
   "execution_count": 9,
   "id": "572e041d",
   "metadata": {},
   "outputs": [
    {
     "data": {
      "text/plain": [
       "[5, 2, 0, 1, 1, 1, 0]"
      ]
     },
     "execution_count": 9,
     "metadata": {},
     "output_type": "execute_result"
    }
   ],
   "source": [
    "histogram(tabDice, 5)"
   ]
  },
  {
   "cell_type": "markdown",
   "id": "1e48ccf9-eee7-4d8f-b9cd-b297ff5a373e",
   "metadata": {},
   "source": [
    "Pour histogram il n'est pas judicieux d'utiliser la fonction oneSameSide"
   ]
  },
  {
   "cell_type": "code",
   "execution_count": 14,
   "id": "1a80e2b4",
   "metadata": {},
   "outputs": [],
   "source": [
    "def largerSumSameSide(t, n):\n",
    "    \n",
    "    histo = histogram(t, n)\n",
    "    print(histo)\n",
    "    m = histo[1]\n",
    "    index = 1\n",
    "    for i in range(2, len(histo)):\n",
    "        if histo[i] >= m:\n",
    "            m = histo[i]\n",
    "            index = i\n",
    "    return index*m"
   ]
  },
  {
   "cell_type": "code",
   "execution_count": 15,
   "id": "b7a62485",
   "metadata": {},
   "outputs": [
    {
     "name": "stdout",
     "output_type": "stream",
     "text": [
      "[5, 2, 0, 1, 1, 1, 0]\n"
     ]
    },
    {
     "data": {
      "text/plain": [
       "2"
      ]
     },
     "execution_count": 15,
     "metadata": {},
     "output_type": "execute_result"
    }
   ],
   "source": [
    "largerSumSameSide(tabDice, 5)"
   ]
  },
  {
   "cell_type": "code",
   "execution_count": 16,
   "id": "5fd04928",
   "metadata": {},
   "outputs": [],
   "source": [
    "def insert (t, n, e, k): # O(n - k)\n",
    "    \n",
    "    if k > n:\n",
    "        k = n\n",
    "    for i in range(n,k,-1):\n",
    "        t[i] = t[i-1]\n",
    "    t[k] = e\n",
    "    return n+1\n",
    "\n",
    "def moveDice(t, n, value):\n",
    "    \n",
    "    for i in range(n):\n",
    "        if t[i] == value:\n",
    "            insert(t, i, t[i], 0)"
   ]
  },
  {
   "cell_type": "code",
   "execution_count": 17,
   "id": "0bbd0da8",
   "metadata": {},
   "outputs": [
    {
     "name": "stdout",
     "output_type": "stream",
     "text": [
      "[6, 6, 5, 5, 3]\n"
     ]
    }
   ],
   "source": [
    "tabDice = [5, 6, 5, 3, 6]\n",
    "moveDice(tabDice, 5, 6)\n",
    "print(tabDice)"
   ]
  },
  {
   "cell_type": "code",
   "execution_count": 18,
   "id": "d6dc5430",
   "metadata": {},
   "outputs": [],
   "source": [
    "def rollDiceAgain(t, s, ns):\n",
    "    \n",
    "    tabDice = rollDice(ns)\n",
    "    for i in range(ns):\n",
    "        t[s[i]] = tabDice[i]"
   ]
  },
  {
   "cell_type": "code",
   "execution_count": 19,
   "id": "0b70d451",
   "metadata": {},
   "outputs": [
    {
     "name": "stdout",
     "output_type": "stream",
     "text": [
      "[6, 6, 4, 6, 5]\n"
     ]
    }
   ],
   "source": [
    "rollDiceAgain(tabDice, [2, 3, 4], 3)\n",
    "print(tabDice)"
   ]
  }
 ],
 "metadata": {
  "kernelspec": {
   "display_name": "Python 3",
   "language": "python",
   "name": "python3"
  },
  "language_info": {
   "codemirror_mode": {
    "name": "ipython",
    "version": 3
   },
   "file_extension": ".py",
   "mimetype": "text/x-python",
   "name": "python",
   "nbconvert_exporter": "python",
   "pygments_lexer": "ipython3",
   "version": "3.9.4"
  }
 },
 "nbformat": 4,
 "nbformat_minor": 5
}
