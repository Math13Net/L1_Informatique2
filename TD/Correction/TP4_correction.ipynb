{
 "cells": [
  {
   "cell_type": "code",
   "execution_count": 1,
   "id": "b8f79eb2-e9d3-410c-8e13-a4257ff2b01d",
   "metadata": {},
   "outputs": [],
   "source": [
    "from turtle import *\n",
    "from random import randint"
   ]
  },
  {
   "cell_type": "code",
   "execution_count": null,
   "id": "08f94502-bdc1-4559-895c-08f74e7b817a",
   "metadata": {},
   "outputs": [],
   "source": [
    "def polygon(n, a):\n",
    "    for i in range(n):\n",
    "        forward(a)\n",
    "        dot()\n",
    "        left(360/n)\n",
    "    forward(2*a)"
   ]
  },
  {
   "cell_type": "code",
   "execution_count": null,
   "id": "365818d2-2dc5-4ebb-ae73-f5b33077ccbe",
   "metadata": {},
   "outputs": [],
   "source": [
    "pencolor('green')\n",
    "polygon(3, 80)\n",
    "pencolor('blue')\n",
    "polygon(5, 80)\n",
    "pencolor('red')\n",
    "polygon(9, 40)"
   ]
  },
  {
   "cell_type": "code",
   "execution_count": 2,
   "id": "c213fdfe-a620-4801-afea-0daef8452954",
   "metadata": {},
   "outputs": [],
   "source": [
    "def spirale(cote, delta, angle, n = 20) :\n",
    "    if(n>0) :\n",
    "        forward(cote)\n",
    "        right(angle)\n",
    "        spirale(cote + delta, delta ,angle, n-1)\n",
    "\n",
    "spirale(2, 3 , 120)"
   ]
  },
  {
   "cell_type": "code",
   "execution_count": null,
   "id": "ae05221f-abb3-4eb8-a8c3-e73b4dd5eab2",
   "metadata": {},
   "outputs": [],
   "source": [
    "def courbeVonKoch(n, cote) :\n",
    "    width(3)\n",
    "    if n == 0 :\n",
    "        forward(cote)\n",
    "    else :\n",
    "        courbeVonKoch(n-1, cote/3)\n",
    "        left(60)\n",
    "        courbeVonKoch(n-1, cote/3)\n",
    "        left(-120)\n",
    "        courbeVonKoch(n-1, cote/3)\n",
    "        left(60)\n",
    "        courbeVonKoch(n-1, cote/3)"
   ]
  },
  {
   "cell_type": "code",
   "execution_count": null,
   "id": "6114d0c6-ae07-417f-a03c-f878c8fe6968",
   "metadata": {},
   "outputs": [],
   "source": [
    "pencolor('green')\n",
    "courbeVonKoch(  n = 3, cote = 200  )"
   ]
  },
  {
   "cell_type": "code",
   "execution_count": null,
   "id": "59ce7a14-54f1-46bb-8b6f-e40470cfcc5e",
   "metadata": {},
   "outputs": [],
   "source": [
    "def flocon(n, cote) :\n",
    "    for _ in range(3) :\n",
    "        courbeVonKoch(  n, cote  )\n",
    "        left(-120)"
   ]
  },
  {
   "cell_type": "code",
   "execution_count": null,
   "id": "da868fb8-45bf-479b-8514-24aa3a488872",
   "metadata": {},
   "outputs": [],
   "source": [
    "pencolor('red')\n",
    "flocon(3, 200)"
   ]
  }
 ],
 "metadata": {
  "kernelspec": {
   "display_name": "Python 3",
   "language": "python",
   "name": "python3"
  },
  "language_info": {
   "codemirror_mode": {
    "name": "ipython",
    "version": 3
   },
   "file_extension": ".py",
   "mimetype": "text/x-python",
   "name": "python",
   "nbconvert_exporter": "python",
   "pygments_lexer": "ipython3",
   "version": "3.9.4"
  }
 },
 "nbformat": 4,
 "nbformat_minor": 5
}
