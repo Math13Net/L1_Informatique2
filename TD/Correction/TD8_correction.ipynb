{
 "cells": [
  {
   "cell_type": "code",
   "execution_count": null,
   "id": "a925b5ae-494d-4e86-ab90-de30b433efba",
   "metadata": {},
   "outputs": [],
   "source": [
    "from random import randint as rd"
   ]
  },
  {
   "cell_type": "code",
   "execution_count": null,
   "id": "2ca6cc57-2781-4377-80f9-0f93064a9b74",
   "metadata": {},
   "outputs": [],
   "source": [
    "class cellule(object):\n",
    "    \n",
    "    def __init__(self,value=0, _next=None):\n",
    "        self.value = value\n",
    "        self.next = _next\n",
    "\n",
    "class liste(object):\n",
    "    \n",
    "    def __init__(self,cell=None):\n",
    "        self.head = cell\n",
    "\n",
    "    def __str__(self): \n",
    "        \n",
    "        resultat = \"\"\n",
    "        ptr = self.head   \n",
    "        while ptr != None:  \n",
    "            resultat = resultat + str(ptr.value) + ' -> '\n",
    "            ptr = ptr.next \n",
    "        return resultat\n",
    "    \n",
    "    def addFirst(self, cell):\n",
    "        \n",
    "        if self.liste_vide():\n",
    "            self.head = cell\n",
    "        else:\n",
    "            _next = self.head\n",
    "            self.head = cell\n",
    "            cell.next = _next\n",
    "    \n",
    "    def liste_vide(self):\n",
    "        return self.head == None\n",
    "\n",
    "def construit_liste(value,l):\n",
    "        return liste(cellule(value,l.head))"
   ]
  },
  {
   "cell_type": "code",
   "execution_count": null,
   "id": "b6f06b73-583e-4b4f-bcbd-668f0dd30a54",
   "metadata": {},
   "outputs": [],
   "source": [
    "def length(L:liste)->int:\n",
    "    compteur = 0\n",
    "    ptr = L.head\n",
    "    while ptr != None:\n",
    "        ptr = ptr.next\n",
    "        compteur += 1\n",
    "    return compteur"
   ]
  },
  {
   "cell_type": "code",
   "execution_count": null,
   "id": "3cfd9445-2f22-4086-a447-74c399619c8d",
   "metadata": {},
   "outputs": [],
   "source": [
    "def lengthRec(L:list)->int:\n",
    "    if L.head == None:\n",
    "        return 0\n",
    "    else:\n",
    "        return 1 + lengthRec(liste(L.head.next))"
   ]
  },
  {
   "cell_type": "code",
   "execution_count": null,
   "id": "9756cb51-7d59-404b-ac71-fbb8bc8799a9",
   "metadata": {},
   "outputs": [],
   "source": [
    "def occurences(L:liste, element)->int:\n",
    "    compteur = 0\n",
    "    ptr = L.head\n",
    "    while ptr != None:\n",
    "        if ptr.value == element:\n",
    "            compteur += 1\n",
    "        ptr = ptr.next\n",
    "    return compteur"
   ]
  },
  {
   "cell_type": "code",
   "execution_count": null,
   "id": "4e120a80-23aa-48e4-9b5f-9ab50aa8675d",
   "metadata": {},
   "outputs": [],
   "source": [
    "def occurrencesRec(L:list, element)->int:\n",
    "    if L.head == None:\n",
    "        return 0\n",
    "    else:\n",
    "        if L.head.value == element:\n",
    "            return 1 + occurrencesRec(liste(L.head.next), element)\n",
    "    return occurrencesRec(liste(L.head.next), element)\n",
    "            "
   ]
  },
  {
   "cell_type": "code",
   "execution_count": null,
   "id": "ff880371-2ba2-46db-97c0-bbfd50597f38",
   "metadata": {},
   "outputs": [],
   "source": [
    "def isSorted(L:liste)->bool:\n",
    "    _sorted = True\n",
    "    ptr = L.head\n",
    "    if ptr != None:\n",
    "        while ptr.next != None and _sorted:\n",
    "            if ptr.value > ptr.next.value:\n",
    "                _sorted = False\n",
    "            ptr = ptr.next\n",
    "    return _sorted"
   ]
  },
  {
   "cell_type": "code",
   "execution_count": null,
   "id": "037fd2f0-0153-4b42-a7e3-8c2795b39e00",
   "metadata": {},
   "outputs": [],
   "source": [
    "def isSortedRec(L:liste)->bool:\n",
    "    if L.head == None:\n",
    "        return True\n",
    "    else:\n",
    "        if L.head.next != None and L.head.value > L.head.next.value:\n",
    "            return False\n",
    "        return isSortedRec(liste(L.head.next))"
   ]
  },
  {
   "cell_type": "code",
   "execution_count": null,
   "id": "84b14b37-1a39-4de8-8c03-385776d21167",
   "metadata": {},
   "outputs": [],
   "source": [
    "def deleteFirstOccurrenceV1(L:liste, element)->liste:\n",
    "    if not L.liste_vide():\n",
    "        ptr = L.head\n",
    "        while ptr!= None and ptr.value != element:\n",
    "            previous = ptr\n",
    "            ptr = ptr.next\n",
    "        if ptr == L.head:\n",
    "            L.head = ptr.next\n",
    "        elif ptr != None:\n",
    "            previous.next = ptr.next\n",
    "    return L"
   ]
  },
  {
   "cell_type": "code",
   "execution_count": null,
   "id": "273d3ea9-0778-4074-837b-fd5daeba9323",
   "metadata": {},
   "outputs": [],
   "source": [
    "def deleteFirstOccurrenceV2(L:liste, element)->liste:\n",
    "    if not L.liste_vide():       \n",
    "        ptr = L.head\n",
    "        first = False\n",
    "        while ptr != None and not first:\n",
    "            if L.head.value == element:\n",
    "                L.head = ptr.next\n",
    "                first = True\n",
    "            elif ptr.value == element:  \n",
    "                previous.next = ptr.next\n",
    "                first = True\n",
    "            else :\n",
    "                previous = ptr\n",
    "            ptr = ptr.next\n",
    "    return L"
   ]
  },
  {
   "cell_type": "code",
   "execution_count": null,
   "id": "778862a9-3c95-4ca6-a2e9-e7dc067244d9",
   "metadata": {},
   "outputs": [],
   "source": [
    "def deleteFirstOccurrenceRec(L:liste, element, first = True)->list:\n",
    "    if L.head == None:\n",
    "        return liste()\n",
    "    if L.head.value == element and first:\n",
    "        first = False\n",
    "        return liste(L.head.next)\n",
    "    else:\n",
    "        p = deleteFirstOccurrenceRec(liste(L.head.next), element, first)\n",
    "        p = construit_liste(L.head.value, p)\n",
    "        return p"
   ]
  },
  {
   "cell_type": "code",
   "execution_count": null,
   "id": "52843181-1163-410e-a0df-8636412b9f7c",
   "metadata": {},
   "outputs": [],
   "source": [
    "def deleteAllOccurrencesRec(L:liste, element)->list:\n",
    "    if L.head == None:\n",
    "        return liste()\n",
    "    p = deleteAllOccurrencesRec(liste(L.head.next), element)\n",
    "    if L.head.value != element:\n",
    "        p = construit_liste(L.head.value, p)\n",
    "    return p"
   ]
  },
  {
   "cell_type": "code",
   "execution_count": null,
   "id": "eeaf3e2a-438d-4950-8b0c-f9e9e71e23dd",
   "metadata": {},
   "outputs": [],
   "source": [
    "def reverse(L:liste)->liste:\n",
    "    ptr = L.head\n",
    "    while ptr.next != None:\n",
    "        prev = ptr\n",
    "        ptrMoveHead = ptr.next\n",
    "        succ = ptrMoveHead.next\n",
    "        prev.next = succ\n",
    "        L.addFirst(ptrMoveHead)\n",
    "        ptr = prev\n",
    "    return L"
   ]
  },
  {
   "cell_type": "code",
   "execution_count": null,
   "id": "556d3dff-c03a-4f04-9878-af37e7847cf8",
   "metadata": {},
   "outputs": [],
   "source": [
    "L = liste()\n",
    "#t = [i for i in (\"supercalifragilisticexpialidocious\")]\n",
    "t = [rd(0, 10) for i in range(10)]\n",
    "t.reverse() # Parce que construit_liste renverse la liste\n",
    "for i in t:\n",
    "    L = construit_liste(i, L) \n",
    "print(f\"La liste avant : {L}\") \n",
    "n = t[rd(0,len(t)-1)]\n",
    "print(f\"Une valeur dans la liste : {n}\")\n",
    "print(f\"lengthRec : {lengthRec(L)}\")\n",
    "print(f\"OccurrencesRec de la valeur {n}: {occurrencesRec(L, n)}\")\n",
    "print(f\"isSorted : {isSortedRec(L)}\")\n",
    "P = deleteFirstOccurrenceRec(L, n)\n",
    "print(f\"deleteFirstOccurence {n} : {P}\")\n",
    "Q = deleteAllOccurrencesRec(L, n)\n",
    "print(f\"deleteAllOccurences {n} : {Q}\")\n",
    "print(f\"reverse : {reverse(L)}\")\n"
   ]
  },
  {
   "cell_type": "markdown",
   "id": "a91ec470-1a93-4cc0-8ec9-0f6627cb5cf4",
   "metadata": {},
   "source": [
    "L’algorithme pour le tri peut-être le suivant :\n",
    "\n",
    "On initialise une pile C qui est vide au début. \n",
    "Tant que la pile A n’est pas vide, on considère les deux cas suivants:\n",
    "* si la pile B est vide ou si l'élément au sommet de A est plus petit que celui de B\n",
    "    * on retire l'élément au sommet de la pile A pour empiler dans la pile B, \n",
    "    * puis si la pile C n’est pas vide on retire tous les  éléments de la pile C pour empiler dans la pile B.\n",
    "* sinon : on déplace l'élément au sommet de la pile B à la pile C"
   ]
  },
  {
   "cell_type": "code",
   "execution_count": null,
   "id": "a5887a1f-5026-4c1e-bf80-830cfce4b2aa",
   "metadata": {},
   "outputs": [],
   "source": []
  }
 ],
 "metadata": {
  "kernelspec": {
   "display_name": "Python 3 (ipykernel)",
   "language": "python",
   "name": "python3"
  },
  "language_info": {
   "codemirror_mode": {
    "name": "ipython",
    "version": 3
   },
   "file_extension": ".py",
   "mimetype": "text/x-python",
   "name": "python",
   "nbconvert_exporter": "python",
   "pygments_lexer": "ipython3",
   "version": "3.9.7"
  }
 },
 "nbformat": 4,
 "nbformat_minor": 5
}
