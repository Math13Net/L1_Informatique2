{
 "cells": [
  {
   "cell_type": "code",
   "execution_count": null,
   "id": "6329bd32-e065-42de-babb-b80f311d53ec",
   "metadata": {},
   "outputs": [],
   "source": [
    "def alenvers(s:str, n:int)->str:\n",
    "    if n == 0:\n",
    "        return \"\"\n",
    "    else:\n",
    "        return s[n-1] + alenvers(s, n-1)"
   ]
  },
  {
   "cell_type": "code",
   "execution_count": null,
   "id": "faf64f0c-012e-433c-a725-c9d33778b5db",
   "metadata": {},
   "outputs": [],
   "source": [
    "def complementBinaire(binaire: str, n:int)->str:\n",
    "    if n == 0:\n",
    "        return \"\"\n",
    "    elif binaire[n-1] == \"0\":\n",
    "        return complementBinaire(binaire, n-1) + \"1\"\n",
    "    else:\n",
    "        return complementBinaire(binaire, n-1) + \"0\""
   ]
  },
  {
   "cell_type": "code",
   "execution_count": null,
   "id": "b5002535-97a7-46c5-88ca-bf83cd27f41c",
   "metadata": {},
   "outputs": [],
   "source": [
    "def sommeEntiersPositifs(L:list, n, indiceDepart:int)->int:\n",
    "    if n == indiceDepart:\n",
    "        return 0\n",
    "    elif L[n-1] >= 0:\n",
    "        return L[n-1] + sommeEntiersPositifs(L, n-1, indiceDepart)\n",
    "    else:\n",
    "        return sommeEntiersPositifs(L, n-1, indiceDepart)"
   ]
  },
  {
   "cell_type": "code",
   "execution_count": null,
   "id": "609aecb7-c7d1-49e2-906e-b846cde48fd4",
   "metadata": {},
   "outputs": [],
   "source": [
    "def pair(N):\n",
    "    if N == 0:\n",
    "        return True\n",
    "    if N == 1:\n",
    "        return False\n",
    "    return impair(N-1)\n",
    "    \n",
    "def impair(N):\n",
    "    if N == 1:\n",
    "        return True\n",
    "    if N == 0:\n",
    "        return False\n",
    "    return pair(N-1)"
   ]
  },
  {
   "cell_type": "code",
   "execution_count": null,
   "id": "40ba833e-56cf-4384-ac89-5e8440a64e3a",
   "metadata": {},
   "outputs": [],
   "source": [
    "def isSorted(t, n):\n",
    "    if n == 1:\n",
    "        return True\n",
    "    if t[n-1] >= t[n-2]:\n",
    "        return isSorted(t, n-1)\n",
    "    return False"
   ]
  },
  {
   "cell_type": "code",
   "execution_count": null,
   "id": "73d6fd14-01c6-43b2-80b3-0a1a0fe361e2",
   "metadata": {},
   "outputs": [],
   "source": [
    "def alenversTableau(t, n, i):\n",
    "    if i < n//2 + 1:\n",
    "        return\n",
    "    tmp = t[i-1]\n",
    "    t[i-1] = t[n-i]\n",
    "    t[n-i] = tmp\n",
    "    alenversTableau(t, n, i-1)"
   ]
  },
  {
   "cell_type": "code",
   "execution_count": null,
   "id": "5b4fec95-7968-4bf9-adac-2287ca72c1e0",
   "metadata": {},
   "outputs": [],
   "source": [
    "def maxRecursif(t, n, g, d):\n",
    "    if d-g == 0:\n",
    "        return t[g]\n",
    "    max1 = maxRecursif(t, n, g, (g+d)//2)\n",
    "    max2 = maxRecursif(t, n, ((g+d)//2)+1, d)\n",
    "    if max2 > max1:\n",
    "        return max2\n",
    "    return max1"
   ]
  },
  {
   "cell_type": "code",
   "execution_count": null,
   "id": "5b5ce40f-42aa-4dae-8a6d-246acf6d9f16",
   "metadata": {},
   "outputs": [],
   "source": []
  },
  {
   "cell_type": "code",
   "execution_count": null,
   "id": "2da30db9-1cf3-4789-acf3-1b24fac551b8",
   "metadata": {},
   "outputs": [],
   "source": [
    "def fiboRecursive(n) :\n",
    "    if n <= 1: \n",
    "        return 1\n",
    "    else: \n",
    "        return fiboRecursive(n-1)+fiboRecursive(n-2)"
   ]
  },
  {
   "cell_type": "code",
   "execution_count": null,
   "id": "1f7cd5f3-9d4f-49d1-ae05-8a73112e413e",
   "metadata": {},
   "outputs": [],
   "source": [
    "print([fiboRecursive(n) for n in range(20)])"
   ]
  },
  {
   "cell_type": "code",
   "execution_count": null,
   "id": "24927f34-90f1-4483-84da-b52bf18997dd",
   "metadata": {},
   "outputs": [],
   "source": [
    "def fiboIterative(n):\n",
    "    a, b = 0, 1\n",
    "    for i in range(0, n):\n",
    "        tmp = b\n",
    "        b = a + b\n",
    "        a = tmp\n",
    "    return b"
   ]
  },
  {
   "cell_type": "code",
   "execution_count": null,
   "id": "8e47391e-3e69-4cd8-8777-6710fd416509",
   "metadata": {},
   "outputs": [],
   "source": [
    "print([fiboIterative(n) for n in range(20)])"
   ]
  },
  {
   "cell_type": "code",
   "execution_count": null,
   "id": "2470afff-934c-479f-971c-6becc28e9417",
   "metadata": {},
   "outputs": [],
   "source": [
    "def labyrinth(mat, i, j):\n",
    "    if i == len(mat)-1 and j == len(mat[0])-1:\n",
    "        return 1\n",
    " \n",
    "    if j >= len(mat[0]) or i >= len(mat):\n",
    "        return 0\n",
    " \n",
    "    if mat[i][j] == 0:\n",
    "        return 0\n",
    " \n",
    "    else:\n",
    "        return labyrinth(mat, i+1, j)+labyrinth(mat, i, j+1)\n",
    " \n",
    " \n",
    "mat = [[1, 1, 1, 1],\n",
    "       [1, 0, 1, 1],\n",
    "       [0, 1, 1, 1],\n",
    "       [1, 1, 1, 1]]\n",
    " \n",
    "print('le nombre de chemin est : ', labyrinth(mat, 0, 0))"
   ]
  }
 ],
 "metadata": {
  "kernelspec": {
   "display_name": "Python 3",
   "language": "python",
   "name": "python3"
  },
  "language_info": {
   "codemirror_mode": {
    "name": "ipython",
    "version": 3
   },
   "file_extension": ".py",
   "mimetype": "text/x-python",
   "name": "python",
   "nbconvert_exporter": "python",
   "pygments_lexer": "ipython3",
   "version": "3.9.4"
  }
 },
 "nbformat": 4,
 "nbformat_minor": 5
}
